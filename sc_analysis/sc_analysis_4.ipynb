{
 "cells": [
  {
   "cell_type": "markdown",
   "metadata": {},
   "source": [
    "# 降维\n",
    "\n",
    "## 变分自编码(VAE)\n",
    "Variational AutoEncoedr\n",
    "\n",
    "\n",
    "\n",
    "\n",
    "\n",
    "\n",
    "\n",
    "\n",
    "\n",
    "\n",
    "\n",
    "\n"
   ]
  },
  {
   "cell_type": "code",
   "execution_count": 1,
   "metadata": {},
   "outputs": [
    {
     "ename": "NameError",
     "evalue": "name 'get_vae_model' is not defined",
     "output_type": "error",
     "traceback": [
      "\u001b[0;31m---------------------------------------------------------------------------\u001b[0m",
      "\u001b[0;31mNameError\u001b[0m                                 Traceback (most recent call last)",
      "Cell \u001b[0;32mIn[1], line 12\u001b[0m\n\u001b[1;32m      6\u001b[0m epochs \u001b[38;5;241m=\u001b[39m \u001b[38;5;241m30\u001b[39m\n\u001b[1;32m      9\u001b[0m \u001b[38;5;66;03m# =======================================\u001b[39;00m\n\u001b[1;32m     10\u001b[0m \u001b[38;5;66;03m#  构建VAE模型\u001b[39;00m\n\u001b[1;32m     11\u001b[0m \u001b[38;5;66;03m# =======================================\u001b[39;00m\n\u001b[0;32m---> 12\u001b[0m sc_vae, vae_loss, encoder \u001b[38;5;241m=\u001b[39m \u001b[43mget_vae_model\u001b[49m()\n\u001b[1;32m     13\u001b[0m sc_vae\u001b[38;5;241m.\u001b[39madd_loss(vae_loss)\n\u001b[1;32m     14\u001b[0m sc_vae\u001b[38;5;241m.\u001b[39mcompile(optimizer\u001b[38;5;241m=\u001b[39m\u001b[38;5;124m'\u001b[39m\u001b[38;5;124mrmsprop\u001b[39m\u001b[38;5;124m'\u001b[39m)\n",
      "\u001b[0;31mNameError\u001b[0m: name 'get_vae_model' is not defined"
     ]
    }
   ],
   "source": [
    "# 参数\n",
    "batch_size = 100\n",
    "original_dim = 1838\n",
    "latent_dim = 64\n",
    "intermediate_dim = 256\n",
    "epochs = 30\n",
    "\n",
    "\n",
    "# =======================================\n",
    "#  构建VAE模型\n",
    "# =======================================\n",
    "sc_vae, vae_loss, encoder = get_vae_model()\n",
    "sc_vae.add_loss(vae_loss)\n",
    "sc_vae.compile(optimizer='rmsprop')\n",
    "sc_vae.summary()\n",
    "\n",
    "\n",
    "# =======================================\n",
    "# 数据加载\n",
    "# =======================================\n",
    "pbmc_data = sc.datasets.pbmc3k_processed()\n",
    "\n",
    "# 读取记录\n",
    "x_data = pbmc_data.X\n",
    "y_test_ = pbmc_data.obs['louvain'].values\n",
    "\n",
    "# 归一化\n",
    "x_train = preprocessing.MinMaxScaler().fit_transform(x_data)\n",
    "\n",
    "# 模型训练\n",
    "sc_vae.fit(x_train,\n",
    "        shuffle=True,\n",
    "        epochs=epochs,\n",
    "        batch_size=batch_size,\n",
    "        validation_data=(x_train, None))\n",
    "\n",
    "\n",
    "# 隐含向量\n",
    "\n",
    "\n",
    "x_test_encoded = encoder.predict(x_train, batch_size=batch_size)\n",
    "\n",
    "\n",
    "# =======================================\n",
    "# 可视化\n",
    "# =======================================\n",
    "features = np.array(x_test_encoded).astype('float32')\n",
    "adata = sc.AnnData(features)\n",
    "adata.obs['label'] = y_test_\n",
    "# 计算邻域图\n",
    "\n",
    "\n",
    "sc.pp.neighbors(adata, n_neighbors=10, use_rep='X')\n",
    "\n",
    "# 聚类\n",
    "sc.tl.louvain(adata)\n",
    "sc.tl.umap(adata)\n",
    "sc.pl.umap(adata, color=['louvain', 'label'], save='_pbmc3k_vae_louvain.png')"
   ]
  },
  {
   "cell_type": "code",
   "execution_count": null,
   "metadata": {},
   "outputs": [],
   "source": []
  },
  {
   "cell_type": "markdown",
   "metadata": {},
   "source": [
    "## 变分自编码+归一化"
   ]
  },
  {
   "cell_type": "code",
   "execution_count": null,
   "metadata": {},
   "outputs": [],
   "source": []
  },
  {
   "cell_type": "code",
   "execution_count": null,
   "metadata": {},
   "outputs": [],
   "source": []
  },
  {
   "cell_type": "markdown",
   "metadata": {},
   "source": [
    "## 变分自编码+HVG"
   ]
  },
  {
   "cell_type": "code",
   "execution_count": null,
   "metadata": {},
   "outputs": [],
   "source": []
  },
  {
   "cell_type": "code",
   "execution_count": null,
   "metadata": {},
   "outputs": [],
   "source": []
  },
  {
   "cell_type": "markdown",
   "metadata": {},
   "source": [
    "## 自监督学习"
   ]
  },
  {
   "cell_type": "code",
   "execution_count": null,
   "metadata": {},
   "outputs": [],
   "source": []
  },
  {
   "cell_type": "markdown",
   "metadata": {},
   "source": [
    "## 自监督+批次效应矫正"
   ]
  },
  {
   "cell_type": "code",
   "execution_count": null,
   "metadata": {},
   "outputs": [],
   "source": []
  },
  {
   "cell_type": "code",
   "execution_count": null,
   "metadata": {},
   "outputs": [],
   "source": []
  },
  {
   "cell_type": "markdown",
   "metadata": {},
   "source": [
    "## Transformer"
   ]
  },
  {
   "cell_type": "code",
   "execution_count": null,
   "metadata": {},
   "outputs": [],
   "source": []
  },
  {
   "cell_type": "code",
   "execution_count": null,
   "metadata": {},
   "outputs": [],
   "source": []
  },
  {
   "cell_type": "markdown",
   "metadata": {},
   "source": [
    "## Transformer + HVG"
   ]
  },
  {
   "cell_type": "code",
   "execution_count": null,
   "metadata": {},
   "outputs": [],
   "source": []
  },
  {
   "cell_type": "code",
   "execution_count": null,
   "metadata": {},
   "outputs": [],
   "source": []
  },
  {
   "cell_type": "markdown",
   "metadata": {},
   "source": [
    "## Transformer + Marker分析"
   ]
  },
  {
   "cell_type": "code",
   "execution_count": null,
   "metadata": {},
   "outputs": [],
   "source": []
  },
  {
   "cell_type": "code",
   "execution_count": null,
   "metadata": {},
   "outputs": [],
   "source": []
  },
  {
   "cell_type": "markdown",
   "metadata": {},
   "source": [
    "## Transfromer代码解读\n"
   ]
  },
  {
   "cell_type": "code",
   "execution_count": null,
   "metadata": {},
   "outputs": [],
   "source": []
  },
  {
   "cell_type": "code",
   "execution_count": null,
   "metadata": {},
   "outputs": [],
   "source": []
  },
  {
   "cell_type": "markdown",
   "metadata": {},
   "source": [
    "## 比较x还是z"
   ]
  },
  {
   "cell_type": "code",
   "execution_count": null,
   "metadata": {},
   "outputs": [],
   "source": []
  },
  {
   "cell_type": "code",
   "execution_count": null,
   "metadata": {},
   "outputs": [],
   "source": []
  }
 ],
 "metadata": {
  "kernelspec": {
   "display_name": "rna_seq",
   "language": "python",
   "name": "python3"
  },
  "language_info": {
   "codemirror_mode": {
    "name": "ipython",
    "version": 3
   },
   "file_extension": ".py",
   "mimetype": "text/x-python",
   "name": "python",
   "nbconvert_exporter": "python",
   "pygments_lexer": "ipython3",
   "version": "3.11.9"
  }
 },
 "nbformat": 4,
 "nbformat_minor": 2
}
